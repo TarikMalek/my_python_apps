{
 "cells": [
  {
   "cell_type": "code",
   "execution_count": 1,
   "metadata": {
    "collapsed": true,
    "deletable": true,
    "editable": true
   },
   "outputs": [],
   "source": [
    "import pandas as pd \n",
    "import folium"
   ]
  },
  {
   "cell_type": "markdown",
   "metadata": {
    "deletable": true,
    "editable": true
   },
   "source": [
    "## Making a web map with folium "
   ]
  },
  {
   "cell_type": "code",
   "execution_count": 2,
   "metadata": {
    "collapsed": false,
    "deletable": true,
    "editable": true
   },
   "outputs": [
    {
     "data": {
      "text/plain": [
       "<folium.features.ClickForMarker at 0x18fe10e5ac8>"
      ]
     },
     "execution_count": 2,
     "metadata": {},
     "output_type": "execute_result"
    }
   ],
   "source": [
    "my_map = folium.Map(location = [37.756488877551,-122.429343346939],zoom_start=12,tiles='Stamen Terrain')\n",
    "folium.Marker([37.756488877551,-122.429343346939], popup='SanFan',icon = folium.Icon(color ='red')).add_to(my_map)\n",
    "folium.LatLngPopup().add_to(my_map)\n",
    "folium.ClickForMarker(popup='Waypoint').add_to(my_map)"
   ]
  },
  {
   "cell_type": "code",
   "execution_count": 3,
   "metadata": {
    "collapsed": false,
    "deletable": true,
    "editable": true
   },
   "outputs": [],
   "source": [
    "my_map.save('first_map_test.html')"
   ]
  },
  {
   "cell_type": "markdown",
   "metadata": {
    "collapsed": false,
    "deletable": true,
    "editable": true
   },
   "source": [
    "## Extracting longitudes and latitudes with geopy "
   ]
  },
  {
   "cell_type": "code",
   "execution_count": 4,
   "metadata": {
    "collapsed": true,
    "deletable": true,
    "editable": true
   },
   "outputs": [],
   "source": [
    "import geopy"
   ]
  },
  {
   "cell_type": "code",
   "execution_count": 5,
   "metadata": {
    "collapsed": false,
    "deletable": true,
    "editable": true
   },
   "outputs": [
    {
     "name": "stdout",
     "output_type": "stream",
     "text": [
      "-122.429343346939\n",
      "37.756488877551\n"
     ]
    }
   ],
   "source": [
    "from geopy.geocoders import Nominatim\n",
    "nom = Nominatim()\n",
    "n= nom.geocode('3666 21st St,San Francisco,CA 94114')\n",
    "print(n.longitude)\n",
    "print(n.latitude)"
   ]
  },
  {
   "cell_type": "code",
   "execution_count": 6,
   "metadata": {
    "collapsed": false,
    "deletable": true,
    "editable": true
   },
   "outputs": [
    {
     "data": {
      "text/plain": [
       "Location(المنصورة, الدقهلية, مصر, (31.037566, 31.38649, 0.0))"
      ]
     },
     "execution_count": 6,
     "metadata": {},
     "output_type": "execute_result"
    }
   ],
   "source": [
    "nom.geocode('mansoura,egypt')"
   ]
  },
  {
   "cell_type": "markdown",
   "metadata": {
    "deletable": true,
    "editable": true
   },
   "source": [
    "## Build a web map with a dataframe "
   ]
  },
  {
   "cell_type": "code",
   "execution_count": 7,
   "metadata": {
    "collapsed": true,
    "deletable": true,
    "editable": true
   },
   "outputs": [],
   "source": [
    "data = pd.read_csv('Volcanoes_USA.txt')"
   ]
  },
  {
   "cell_type": "code",
   "execution_count": 8,
   "metadata": {
    "collapsed": false,
    "deletable": true,
    "editable": true
   },
   "outputs": [],
   "source": [
    "volcanoes_map = folium.Map(location = [37.756488877551,-122.429343346939],zoom_start=5,tiles='Stamen Terrain')\n",
    "\n",
    "for lat,long,name,elev in zip(data['LAT'],data['LON'],data['NAME'],data['ELEV']):\n",
    "    folium.Marker([lat,long], popup=name,icon = folium.Icon(color='green' if elev in range(0,1000)\\\n",
    "                                                            else 'orange' if elev in range(1000,3000)\\\n",
    "                                                            else 'red')).add_to(volcanoes_map)\n",
    "volcanoes_map.save('volcanoes_map.html')"
   ]
  },
  {
   "cell_type": "code",
   "execution_count": 9,
   "metadata": {
    "collapsed": false,
    "deletable": true,
    "editable": true
   },
   "outputs": [
    {
     "data": {
      "text/html": [
       "<div>\n",
       "<table border=\"1\" class=\"dataframe\">\n",
       "  <thead>\n",
       "    <tr style=\"text-align: right;\">\n",
       "      <th></th>\n",
       "      <th>VOLCANX020</th>\n",
       "      <th>NUMBER</th>\n",
       "      <th>NAME</th>\n",
       "      <th>LOCATION</th>\n",
       "      <th>STATUS</th>\n",
       "      <th>ELEV</th>\n",
       "      <th>TYPE</th>\n",
       "      <th>TIMEFRAME</th>\n",
       "      <th>LAT</th>\n",
       "      <th>LON</th>\n",
       "      <th>elevation</th>\n",
       "    </tr>\n",
       "  </thead>\n",
       "  <tbody>\n",
       "    <tr>\n",
       "      <th>0</th>\n",
       "      <td>509.0</td>\n",
       "      <td>1201-01=</td>\n",
       "      <td>Baker</td>\n",
       "      <td>US-Washington</td>\n",
       "      <td>Historical</td>\n",
       "      <td>3285.0</td>\n",
       "      <td>Stratovolcanoes</td>\n",
       "      <td>D3</td>\n",
       "      <td>48.776798</td>\n",
       "      <td>-121.810997</td>\n",
       "      <td>red</td>\n",
       "    </tr>\n",
       "    <tr>\n",
       "      <th>1</th>\n",
       "      <td>511.0</td>\n",
       "      <td>1201-02-</td>\n",
       "      <td>Glacier Peak</td>\n",
       "      <td>US-Washington</td>\n",
       "      <td>Tephrochronology</td>\n",
       "      <td>3213.0</td>\n",
       "      <td>Stratovolcano</td>\n",
       "      <td>D4</td>\n",
       "      <td>48.111801</td>\n",
       "      <td>-121.111000</td>\n",
       "      <td>red</td>\n",
       "    </tr>\n",
       "    <tr>\n",
       "      <th>2</th>\n",
       "      <td>513.0</td>\n",
       "      <td>1201-03-</td>\n",
       "      <td>Rainier</td>\n",
       "      <td>US-Washington</td>\n",
       "      <td>Dendrochronology</td>\n",
       "      <td>4392.0</td>\n",
       "      <td>Stratovolcano</td>\n",
       "      <td>D3</td>\n",
       "      <td>46.869801</td>\n",
       "      <td>-121.751000</td>\n",
       "      <td>red</td>\n",
       "    </tr>\n",
       "    <tr>\n",
       "      <th>3</th>\n",
       "      <td>515.0</td>\n",
       "      <td>1201-05-</td>\n",
       "      <td>St. Helens</td>\n",
       "      <td>US-Washington</td>\n",
       "      <td>Historical</td>\n",
       "      <td>2549.0</td>\n",
       "      <td>Stratovolcano</td>\n",
       "      <td>D1</td>\n",
       "      <td>46.199799</td>\n",
       "      <td>-122.181000</td>\n",
       "      <td>orange</td>\n",
       "    </tr>\n",
       "    <tr>\n",
       "      <th>4</th>\n",
       "      <td>516.0</td>\n",
       "      <td>1201-04-</td>\n",
       "      <td>Adams</td>\n",
       "      <td>US-Washington</td>\n",
       "      <td>Tephrochronology</td>\n",
       "      <td>3742.0</td>\n",
       "      <td>Stratovolcano</td>\n",
       "      <td>D6</td>\n",
       "      <td>46.205799</td>\n",
       "      <td>-121.490997</td>\n",
       "      <td>red</td>\n",
       "    </tr>\n",
       "  </tbody>\n",
       "</table>\n",
       "</div>"
      ],
      "text/plain": [
       "   VOLCANX020    NUMBER          NAME       LOCATION            STATUS  \\\n",
       "0       509.0  1201-01=         Baker  US-Washington        Historical   \n",
       "1       511.0  1201-02-  Glacier Peak  US-Washington  Tephrochronology   \n",
       "2       513.0  1201-03-       Rainier  US-Washington  Dendrochronology   \n",
       "3       515.0  1201-05-    St. Helens  US-Washington        Historical   \n",
       "4       516.0  1201-04-         Adams  US-Washington  Tephrochronology   \n",
       "\n",
       "     ELEV             TYPE TIMEFRAME        LAT         LON elevation  \n",
       "0  3285.0  Stratovolcanoes        D3  48.776798 -121.810997       red  \n",
       "1  3213.0    Stratovolcano        D4  48.111801 -121.111000       red  \n",
       "2  4392.0    Stratovolcano        D3  46.869801 -121.751000       red  \n",
       "3  2549.0    Stratovolcano        D1  46.199799 -122.181000    orange  \n",
       "4  3742.0    Stratovolcano        D6  46.205799 -121.490997       red  "
      ]
     },
     "execution_count": 9,
     "metadata": {},
     "output_type": "execute_result"
    }
   ],
   "source": [
    "def coloring(elev):\n",
    "    minimum = int(min(data['ELEV']))\n",
    "    step = int(max(data['ELEV']-min(data['ELEV']))/3)\n",
    "    if elev in range(minimum,minimum+step):\n",
    "        col = 'green'\n",
    "    elif elev in range(minimum+step,minimum+step*2):\n",
    "        col = 'orange'\n",
    "    else :\n",
    "        col = 'red'\n",
    "    return col\n",
    "\n",
    "elevation_list = []\n",
    "for i in data['ELEV']:\n",
    "    num = coloring(i)\n",
    "    elevation_list.append(num)\n",
    "    \n",
    "data['elevation'] = elevation_list\n",
    "\n",
    "data.head()"
   ]
  },
  {
   "cell_type": "code",
   "execution_count": 10,
   "metadata": {
    "collapsed": false,
    "deletable": true,
    "editable": true
   },
   "outputs": [],
   "source": [
    "volcanoes_new = folium.Map(location = [data['LAT'].mean(),data['LON'].mean()],zoom_start=5,tiles='Stamen Terrain')\n",
    "\n",
    "for lat,long,name,elev in zip(data['LAT'],data['LON'],data['NAME'],data['elevation']):\n",
    "    folium.Marker([lat,long], popup=name,icon = folium.Icon(color=elev,icon_color='black')).add_to(volcanoes_new)\n",
    "volcanoes_new.save('volcanoes_new.html')"
   ]
  },
  {
   "cell_type": "code",
   "execution_count": 11,
   "metadata": {
    "collapsed": false,
    "deletable": true,
    "editable": true
   },
   "outputs": [
    {
     "data": {
      "text/plain": [
       "array(['Historical', 'Tephrochronology', 'Dendrochronology', 'Radiocarbon',\n",
       "       'Varve Count', 'Holocene?', 'Holocene', 'Pleistocene-Fumarolic',\n",
       "       'Anthropology'], dtype=object)"
      ]
     },
     "execution_count": 11,
     "metadata": {},
     "output_type": "execute_result"
    }
   ],
   "source": [
    "data['STATUS'].unique()"
   ]
  },
  {
   "cell_type": "markdown",
   "metadata": {
    "deletable": true,
    "editable": true
   },
   "source": [
    "## To convert shape file to gepjson files online : http://ogre.adc4gis.com/\n",
    "To download geojspn converter : http://www.qgis.org/en/site/forusers/download.html"
   ]
  },
  {
   "cell_type": "code",
   "execution_count": 22,
   "metadata": {
    "collapsed": false,
    "deletable": true,
    "editable": true
   },
   "outputs": [],
   "source": [
    "world_population = folium.Map(location = [data['LAT'].mean(),data['LON'].mean()],zoom_start=5,tiles='Mapbox bright')\n",
    "\n",
    "#Add layers to a feature group variable \n",
    "fg = folium.FeatureGroup(name='Volcano Locations')    \n",
    "\n",
    "for lat,long,name,elev in zip(data['LAT'],data['LON'],data['NAME'],data['elevation']):\n",
    "    fg.add_child(folium.Marker(location=[lat,long], popup=name,icon = folium.Icon(color=elev,icon_color='black')))\n",
    "\n",
    "#add the feature group to the map \n",
    "world_population.add_child(fg)\n",
    "world_population.add_child(folium.GeoJson(data=open('shape_file.json'),name='World Population',\\\n",
    "                           style_function= lambda x : {'fillColor':'green' if x['properties']['POP2005']<=10000000 \\\n",
    "                                                       else 'orange' if 10000000 < x['properties']['POP2005']<=20000000\\\n",
    "                                                      else 'red'}))\n",
    "world_population.add_child(folium.LayerControl())\n",
    "world_population.save('world_population.html')\n"
   ]
  },
  {
   "cell_type": "code",
   "execution_count": null,
   "metadata": {
    "collapsed": true
   },
   "outputs": [],
   "source": []
  }
 ],
 "metadata": {
  "kernelspec": {
   "display_name": "Python 3",
   "language": "python",
   "name": "python3"
  },
  "language_info": {
   "codemirror_mode": {
    "name": "ipython",
    "version": 3
   },
   "file_extension": ".py",
   "mimetype": "text/x-python",
   "name": "python",
   "nbconvert_exporter": "python",
   "pygments_lexer": "ipython3",
   "version": "3.5.1"
  }
 },
 "nbformat": 4,
 "nbformat_minor": 0
}
